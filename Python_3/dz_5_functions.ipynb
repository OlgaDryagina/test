{
 "cells": [
  {
   "cell_type": "code",
   "execution_count": 2,
   "metadata": {},
   "outputs": [
    {
     "name": "stdout",
     "output_type": "stream",
     "text": [
      "Введите номер документа:1\n",
      "Результат:\n",
      "Документ не найден в базе\n"
     ]
    }
   ],
   "source": [
    "documents = [\n",
    " {'type': 'passport', 'number': '2207 876234', 'name': 'Василий Гупкин'},\n",
    " {'type': 'invoice', 'number': '11-2', 'name': 'Геннадий Покемонов'},\n",
    " {'type': 'insurance', 'number': '10006', 'name': 'Аристарх Павлов'}\n",
    "]\n",
    "\n",
    "def doc_owner():\n",
    "    \"\"\"\n",
    "    фунция позволяет узнать владельца документа по его номеру\n",
    "    \"\"\"\n",
    "    number_input = (input('Введите номер документа:')) \n",
    "    print('Результат:')\n",
    "    for doc in documents: \n",
    "        numb = doc['number']\n",
    "        owner = doc['name']\n",
    "        if number_input == numb:            \n",
    "            print('Владелец документа:', owner)\n",
    "            break\n",
    "    else:            \n",
    "        print('Документ не найден в базе')\n",
    "doc_owner()"
   ]
  },
  {
   "cell_type": "code",
   "execution_count": 3,
   "metadata": {},
   "outputs": [
    {
     "name": "stdout",
     "output_type": "stream",
     "text": [
      "Результат:\n",
      "Введите номер документа:2\n",
      "Документ не найден в базе\n"
     ]
    }
   ],
   "source": [
    "directories = {\n",
    " '1': ['2207 876234', '11-2'],\n",
    " '2': ['10006'],\n",
    " '3': []\n",
    "}\n",
    "\n",
    "def doc_shelf():\n",
    "    \"\"\"\n",
    "    фунция позволяет узнать номер полки по номеру документа\n",
    "    \"\"\"\n",
    "    print('Результат:')\n",
    "    number_input_doc = (input('Введите номер документа:'))\n",
    "    for key, value in directories.items():\n",
    "        if number_input_doc in value:           \n",
    "            print('Документ хранится на полке:', key)\n",
    "            break\n",
    "    else :        \n",
    "        print('Документ не найден в базе')\n",
    "doc_shelf()\n",
    "\n",
    "\n",
    "\n",
    "\n"
   ]
  },
  {
   "cell_type": "code",
   "execution_count": 4,
   "metadata": {},
   "outputs": [
    {
     "name": "stdout",
     "output_type": "stream",
     "text": [
      "№: 2207 876234 , тип: passport , владелец: Василий Гупкин , полка хранения: 1\n",
      "№: 11-2 , тип: invoice , владелец: Геннадий Покемонов , полка хранения: 1\n",
      "№: 10006 , тип: insurance , владелец: Аристарх Павлов , полка хранения: 2\n"
     ]
    }
   ],
   "source": [
    "documents = [\n",
    " {'type': 'passport', 'number': '2207 876234', 'name': 'Василий Гупкин'},\n",
    " {'type': 'invoice', 'number': '11-2', 'name': 'Геннадий Покемонов'},\n",
    " {'type': 'insurance', 'number': '10006', 'name': 'Аристарх Павлов'}\n",
    "]\n",
    "\n",
    "directories = {\n",
    " '1': ['2207 876234', '11-2'],\n",
    " '2': ['10006'],\n",
    " '3': []\n",
    "}\n",
    "\n",
    "def doc_union():\n",
    "    \"\"\"\n",
    "    фунция позволяет увидеть полную информацию по всем документам\n",
    "    \"\"\"\n",
    "    for doc in documents:\n",
    "        type_doc = doc['type']\n",
    "        num_doc = doc['number']\n",
    "        own_doc = doc['name']\n",
    "        for key, value in directories.items():\n",
    "            if num_doc in value:\n",
    "                num_shelf = key        \n",
    "\n",
    "        print('№:', num_doc, ',','тип:',  type_doc,',' ,'владелец:', own_doc, ',', 'полка хранения:', num_shelf )\n",
    "\n",
    "doc_union()\n",
    "       "
   ]
  },
  {
   "cell_type": "code",
   "execution_count": 5,
   "metadata": {},
   "outputs": [
    {
     "name": "stdout",
     "output_type": "stream",
     "text": [
      "Результат:\n",
      "Введите номер полки:4\n",
      "Полка добавлена. Текущий перечень полок: 1,2,3,4\n"
     ]
    }
   ],
   "source": [
    "directories = {\n",
    " '1': ['2207 876234', '11-2'],\n",
    " '2': ['10006'],\n",
    " '3': []\n",
    "}\n",
    "\n",
    "def add_shelf():\n",
    "    \"\"\"\n",
    "    фунция позволяет добавить новую полку\n",
    "    \"\"\"\n",
    "    print('Результат:')\n",
    "    number_input_shelf = (input('Введите номер полки:'))\n",
    "    for key in directories:\n",
    "        if number_input_shelf in key:\n",
    "            print('Такая полка уже существует. Текущий перечень полок:',(',').join(directories.keys()))\n",
    "            break\n",
    "    else:\n",
    "        directories[number_input_shelf] = []\n",
    "        print('Полка добавлена. Текущий перечень полок:',(',').join(directories.keys()))\n",
    "add_shelf()       \n"
   ]
  },
  {
   "cell_type": "code",
   "execution_count": 6,
   "metadata": {},
   "outputs": [
    {
     "name": "stdout",
     "output_type": "stream",
     "text": [
      "Результат:\n",
      "Введите номер полки:4\n",
      "Такой полки не существует. Текущий перечень полок: 1,2,3\n"
     ]
    }
   ],
   "source": [
    "directories = {\n",
    " '1': ['2207 876234', '11-2'],\n",
    " '2': ['10006'],\n",
    " '3': []\n",
    "}\n",
    "\n",
    "def delete_shelf():\n",
    "    \"\"\"\n",
    "    фунция позволяет удалить существующую полку из данных, если она пустая\n",
    "    \"\"\"\n",
    "    print('Результат:')\n",
    "    number_input_shelf = (input('Введите номер полки:'))\n",
    "    for key, value in directories.items():\n",
    "        if number_input_shelf in key and value != []:\n",
    "            print('На полке есть документы, удалите их перед удалением полки. Текущий перечень полок:',(',').join(directories.keys()))\n",
    "            break\n",
    "        elif number_input_shelf in key and value == []:\n",
    "            del(directories[number_input_shelf])\n",
    "            print('Полка удалена. Текущий перечень полок:',(',').join(directories.keys()))\n",
    "            break\n",
    "    else:\n",
    "         print('Такой полки не существует. Текущий перечень полок:',(',').join(directories.keys()))\n",
    "delete_shelf()          \n"
   ]
  },
  {
   "cell_type": "code",
   "execution_count": null,
   "metadata": {},
   "outputs": [
    {
     "name": "stdout",
     "output_type": "stream",
     "text": [
      "Введите командуp\n",
      "Введите номер документа:11-2\n",
      "Результат:\n",
      "Владелец документа: Геннадий Покемонов\n"
     ]
    }
   ],
   "source": [
    "def main():\n",
    "    while True:\n",
    "        user_input = input('Введите команду')\n",
    "        if user_input == 'p':\n",
    "            doc_owner()\n",
    "        elif user_input == 's':\n",
    "            doc_shelf()\n",
    "        elif user_input == 'l':\n",
    "            doc_union()\n",
    "        elif user_input == 'ads':\n",
    "            add_shelf()\n",
    "        elif user_input == 'ds':    \n",
    "            delete_shelf()\n",
    "        elif user_input == 'q':    \n",
    "            break            \n",
    "        else:\n",
    "            print('Введена неверная команда')\n",
    "main()            "
   ]
  }
 ],
 "metadata": {
  "kernelspec": {
   "display_name": "Python 3",
   "language": "python",
   "name": "python3"
  },
  "language_info": {
   "codemirror_mode": {
    "name": "ipython",
    "version": 3
   },
   "file_extension": ".py",
   "mimetype": "text/x-python",
   "name": "python",
   "nbconvert_exporter": "python",
   "pygments_lexer": "ipython3",
   "version": "3.8.3"
  }
 },
 "nbformat": 4,
 "nbformat_minor": 4
}
