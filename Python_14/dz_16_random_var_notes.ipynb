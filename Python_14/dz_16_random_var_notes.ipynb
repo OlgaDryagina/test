{
 "cells": [
  {
   "cell_type": "markdown",
   "metadata": {},
   "source": [
    "Смоделировать игру против лотерейного автомата типа “777”. Игрок платит 1 руб., после чего выпадает случайное целое число, равномерно распределенное от 0 до 999. При некоторых значениях числа игрок получает выигрыш (см. справа)\n",
    "\n",
    "Выгодна ли игра игроку?\n",
    "\n",
    "Сколько в среднем приобретает\n",
    "или теряет игрок за одну игру?\n",
    "\n",
    "777: 200 руб.\n",
    "999: 100 руб.\n",
    "555: 50 руб.\n",
    "333: 15 руб.\n",
    "111: 10 руб.\n",
    "*77: 5 руб.\n",
    "**7: 3 руб.\n",
    "*00: 2 руб.\n",
    "**0: 1 руб."
   ]
  },
  {
   "cell_type": "code",
   "execution_count": 19,
   "metadata": {
    "scrolled": true
   },
   "outputs": [
    {
     "name": "stdout",
     "output_type": "stream",
     "text": [
      "Успешных попыток: 204074 Выигрыш: 802053 Вероятность: 0.204074\n"
     ]
    }
   ],
   "source": [
    "import numpy as np\n",
    "\n",
    "trials = 1000000  #количество попыток\n",
    "successes = 0  #количество успехов\n",
    "money = 0 #выигрыш в деньгах\n",
    "\n",
    "for i in range(trials):\n",
    "    random_score = np.random.randint(0, 1000)\n",
    "    if random_score == 777: \n",
    "        successes += 1\n",
    "        money += 200\n",
    "    elif random_score == 999:\n",
    "        successes += 1\n",
    "        money += 100\n",
    "    elif  random_score == 555:\n",
    "        successes += 1\n",
    "        money += 50\n",
    "    elif random_score == 333:    \n",
    "        successes += 1\n",
    "        money += 15\n",
    "    elif random_score == 111: \n",
    "        successes += 1\n",
    "        money += 10\n",
    "    elif random_score % 100 == 77:\n",
    "        successes += 1\n",
    "        money += 5\n",
    "    elif random_score % 10 == 7:\n",
    "        successes += 1\n",
    "        money += 3  \n",
    "    elif random_score % 10 == 0 and random_score % 100 == 0:\n",
    "        successes += 1\n",
    "        money += 2 \n",
    "    elif random_score % 10 == 0:    \n",
    "        successes += 1\n",
    "        money += 1 \n",
    "p_monte_carlo = successes / trials    \n",
    "\n",
    "print('Успешных попыток:',successes, 'Выигрыш:', money, 'Вероятность:',  p_monte_carlo)\n"
   ]
  },
  {
   "cell_type": "markdown",
   "metadata": {},
   "source": [
    "Если одна попытка игры стоит 1 рубль, то совершив 1 млн попыток, играющий потратит 1 млн рублей. Вероятность получить выигрышную комбинацию составляет примерно 20%, а сумма выигрыша в среднем около 800 тыс.руб. Таким образом, игра не выгодна."
   ]
  }
 ],
 "metadata": {
  "kernelspec": {
   "display_name": "Python 3",
   "language": "python",
   "name": "python3"
  },
  "language_info": {
   "codemirror_mode": {
    "name": "ipython",
    "version": 3
   },
   "file_extension": ".py",
   "mimetype": "text/x-python",
   "name": "python",
   "nbconvert_exporter": "python",
   "pygments_lexer": "ipython3",
   "version": "3.8.3"
  }
 },
 "nbformat": 4,
 "nbformat_minor": 4
}
