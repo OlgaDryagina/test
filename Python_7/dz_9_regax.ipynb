{
 "cells": [
  {
   "cell_type": "markdown",
   "metadata": {},
   "source": [
    "**Задание 1**\n",
    "Напишите функцию, которая принимает на вход строку и проверяет является ли она валидным транспортным номером (1 буква, 3 цифры, 2 буквы, 2-3 цифры). Обратите внимание, что не все буквы кириллического алфавита используются в транспортных номерах.\n",
    "\n",
    "Если номер валиден, то функция должна возвращать отдельно номер и регион.\n",
    "\n",
    "\n"
   ]
  },
  {
   "cell_type": "code",
   "execution_count": 7,
   "metadata": {},
   "outputs": [
    {
     "name": "stdout",
     "output_type": "stream",
     "text": [
      "Номер А222ВС валиден. Регион: 96\n"
     ]
    }
   ],
   "source": [
    "import re\n",
    "\n",
    "car_id = 'А222ВС96'\n",
    "\n",
    "def car_number():\n",
    "    num = (r'([АВЕКМНОРСТХУ]{1}\\d{3}[АВЕКМНОРСТХУ]{2})(\\d{2,3})')\n",
    "\n",
    "    num_match = re.search(num, car_id)\n",
    "    if num_match:\n",
    "        print('Номер',num_match.group(1),'валиден. Регион:',num_match.group(2) )\n",
    "    else:\n",
    "        print('Номер не валиден')\n",
    "\n",
    "\n",
    "car_number()\n"
   ]
  },
  {
   "cell_type": "markdown",
   "metadata": {},
   "source": [
    "Задание 2\n",
    "Напишите функцию, которая будет удалять все последовательные повторы слов из заданной строки при помощи регулярных выражений."
   ]
  },
  {
   "cell_type": "code",
   "execution_count": 4,
   "metadata": {},
   "outputs": [
    {
     "name": "stdout",
     "output_type": "stream",
     "text": [
      "Напишите функцию, которая будет удалять все последовательные повторы слов из заданной строки при помощи регулярных выражений\n"
     ]
    }
   ],
   "source": [
    "import re\n",
    "\n",
    "some_string = 'Напишите функцию функцию, которая будет будет будет будет удалять все все все все последовательные повторы слов из из из из заданной строки строки при помощи регулярных выражений'\n",
    "\n",
    "def del_word():\n",
    "    del_word_pattern = re.sub(r'(\\w+)(\\s+\\1)+' , r'\\1', some_string)       # в (\\s+\\1) \\1 ссылка на первую подмаску (\\w+)         \n",
    "    if del_word_pattern:\n",
    "        print(del_word_pattern)\n",
    "\n",
    "\n",
    "del_word()"
   ]
  },
  {
   "cell_type": "markdown",
   "metadata": {},
   "source": [
    "Задание 3\n",
    "Напишите функцию, которая будет возвращать акроним по переданной в нее строке со словами."
   ]
  },
  {
   "cell_type": "code",
   "execution_count": null,
   "metadata": {},
   "outputs": [],
   "source": [
    "# не поняла как сделать, чтоб результат выводился без пробела. \\s в конце не помогает "
   ]
  },
  {
   "cell_type": "code",
   "execution_count": 39,
   "metadata": {},
   "outputs": [
    {
     "name": "stdout",
     "output_type": "stream",
     "text": [
      "И т\n"
     ]
    }
   ],
   "source": [
    "import re\n",
    "\n",
    "\n",
    "some_words = 'Информационные технологии'\n",
    "\n",
    "def acr_word():\n",
    "    word = r'([a-zA-zА-ЯЁа-яё]{1})(\\w+)'\n",
    "    acronim = re.sub(word, r'\\1', some_words )\n",
    "    if acronim:\n",
    "        print(acronim)\n",
    "        \n",
    "acr_word()    \n",
    "    \n"
   ]
  },
  {
   "cell_type": "markdown",
   "metadata": {},
   "source": [
    "Задание 4\n",
    "Напишите функцию, которая будет принимать на вход список email-адресов и выводить их распределение по доменным зонам."
   ]
  },
  {
   "cell_type": "code",
   "execution_count": 51,
   "metadata": {},
   "outputs": [
    {
     "name": "stdout",
     "output_type": "stream",
     "text": [
      "Результат:\n",
      "\n",
      "gmail.com : 2\n",
      "test.in : 1\n",
      "ya.ru : 2\n",
      "mail.ru : 1\n"
     ]
    }
   ],
   "source": [
    "import re\n",
    "emails = ['test@gmail.com', 'xyz@test.in', 'test@ya.ru', 'xyz@mail.ru', 'xyz@ya.ru', 'xyz@gmail.com']\n",
    "\n",
    "def find_domain():\n",
    "    domain_pattern = re.findall(r'(?:@)(\\w+.\\w+)', str(emails))\n",
    "\n",
    "    counter = {}\n",
    "    for domain in domain_pattern:    \n",
    "        counter[domain] = counter.get(domain, 0) + 1\n",
    "\n",
    "    print('Результат:')\n",
    "    print()\n",
    "    for key, value in counter.items():\n",
    "        print(key, ':', value) \n",
    "        \n",
    "find_domain()      "
   ]
  }
 ],
 "metadata": {
  "kernelspec": {
   "display_name": "Python 3",
   "language": "python",
   "name": "python3"
  },
  "language_info": {
   "codemirror_mode": {
    "name": "ipython",
    "version": 3
   },
   "file_extension": ".py",
   "mimetype": "text/x-python",
   "name": "python",
   "nbconvert_exporter": "python",
   "pygments_lexer": "ipython3",
   "version": "3.8.3"
  }
 },
 "nbformat": 4,
 "nbformat_minor": 4
}
