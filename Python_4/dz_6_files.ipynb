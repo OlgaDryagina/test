{
 "cells": [
  {
   "cell_type": "markdown",
   "metadata": {},
   "source": [
    "Задание 1. Переведите содержимое файла purchase_log.txt в словарь purchases вида:\n",
    "{‘1840e0b9d4’: ‘Продукты’, …}\n",
    "\n"
   ]
  },
  {
   "cell_type": "code",
   "execution_count": 18,
   "metadata": {},
   "outputs": [],
   "source": [
    "import json\n",
    "\n",
    "purchases = {}\n",
    "with open('purchase_log.txt', encoding = 'utf=8') as f:\n",
    "    for line in f:\n",
    "        line = line.strip()\n",
    "        purchase = json.loads(line)\n",
    "        purchases.setdefault(purchase['user_id'], purchase['category']  ) \n",
    "        \n",
    "#purchases      "
   ]
  },
  {
   "cell_type": "markdown",
   "metadata": {},
   "source": [
    "Задание 2. Для каждого user_id в файле visit_log.csv определите третий столбец с категорией покупки (если покупка была, сам файл visit_log.csv изменять не надо). Запишите в файл funnel.csv визиты из файла visit_log.csv, в которых были покупки с указанием категории.\n",
    "Учтите условия на данные:\n",
    "содержимое purchase_log.txt помещается в оперативную память компьютера\n",
    "содержимое visit_log.csv - нет; используйте только построчную обработку этого файла\n",
    "\n",
    "(провести проверку данных по ID пользователя и создать 3ий столбец в файле funnel.csv, который равен значению в словаре purchases)"
   ]
  },
  {
   "cell_type": "code",
   "execution_count": 19,
   "metadata": {},
   "outputs": [],
   "source": [
    "import csv\n",
    "with open('visit_log.csv','r') as f1:                          # открываем на чтение через контекст. менеджер\n",
    "    with open('funnel.csv' , 'w') as f2write:                  #открываем пустой файл на запись   \n",
    "        for line_1 in f1:                                      \n",
    "            line_2 = line_1.strip().split(',')                 #разбиваем строки из первого файла на столбцы\n",
    "            if purchases.get(line_2[0]) != None:               #проверка по ID пользователя: если в словаре есть пользователь\n",
    "                a = purchases.get(line_2[0])                   #с таким номером, добавь его значение в переменную \n",
    "                f2write.write(f'{line_2[0]},{line_2[1]},{a} \\n')\n",
    "\n"
   ]
  }
 ],
 "metadata": {
  "kernelspec": {
   "display_name": "Python 3",
   "language": "python",
   "name": "python3"
  },
  "language_info": {
   "codemirror_mode": {
    "name": "ipython",
    "version": 3
   },
   "file_extension": ".py",
   "mimetype": "text/x-python",
   "name": "python",
   "nbconvert_exporter": "python",
   "pygments_lexer": "ipython3",
   "version": "3.8.3"
  }
 },
 "nbformat": 4,
 "nbformat_minor": 4
}
