{
 "cells": [
  {
   "cell_type": "markdown",
   "metadata": {},
   "source": [
    "Задание 1. Даны 2 переменных, в которых хранятся строки произвольной длины: phrase_1 и phrase_2.\n",
    "Напишите код, который проверяет какая из этих строк длиннее."
   ]
  },
  {
   "cell_type": "code",
   "execution_count": 2,
   "metadata": {},
   "outputs": [
    {
     "name": "stdout",
     "output_type": "stream",
     "text": [
      "Фраза 1 длиннее фразы 2\n"
     ]
    }
   ],
   "source": [
    "phrase_1 = 'Насколько проще было бы писать программы, если бы не заказчики'\n",
    "phrase_2 = '640Кб должно хватить для любых задач. Билл Гейтс (по легенде)'\n",
    "if len(phrase_1) > len(phrase_2):      #функция len подсчитывает количество символов в строке\n",
    "    print('Фраза 1 длиннее фразы 2')\n",
    "elif len(phrase_1) < len(phrase_2):\n",
    "    print('Фраза 2 длиннее фразы 1') \n",
    "else:\n",
    "    print('Фразы равной длины')    "
   ]
  },
  {
   "cell_type": "markdown",
   "metadata": {},
   "source": [
    "Задание 2. Дана переменная, в которой хранится четырехзначное число (год). Необходимо написать программу, которая выведет, является ли данный год високосным или обычным."
   ]
  },
  {
   "cell_type": "code",
   "execution_count": 2,
   "metadata": {},
   "outputs": [
    {
     "name": "stdout",
     "output_type": "stream",
     "text": [
      "Введите год2100\n",
      "Обычный год\n"
     ]
    }
   ],
   "source": [
    "year = 2100\n",
    "year_input = int(input('Введите год'))\n",
    "if year % 100 == 0 and year % 400 == 0 or year % 100 != 0 and year % 4 == 0: #високосный год делится без остатка на 4\n",
    "    print('Високосный год')                                                  #если столетие,то делится без остатка на 400\n",
    "else:\n",
    "    print('Обычный год')"
   ]
  },
  {
   "cell_type": "markdown",
   "metadata": {},
   "source": [
    "Задание 3. Необходимо написать программу, которая будет запрашивать у пользователя месяц и дату рождения и выводить соответствующий знак зодиака."
   ]
  },
  {
   "cell_type": "code",
   "execution_count": 12,
   "metadata": {},
   "outputs": [
    {
     "name": "stdout",
     "output_type": "stream",
     "text": [
      "Введите день31\n",
      "Введите месяцИюль\n",
      "Лев\n"
     ]
    }
   ],
   "source": [
    "day_input = int(input('Введите день'))\n",
    "month_input = (input('Введите месяц'))\n",
    "\n",
    "if 21 <= day_input <= 31 and month_input == 'Март' or 1 <= day_input <= 20 and month_input == 'Апрель': \n",
    "    print('Овен')\n",
    "elif 21 <= day_input <= 30 and month_input == 'Апрель' or 1 <= day_input <= 20 and month_input == 'Май':\n",
    "    print('Телец')\n",
    "elif 21 <= day_input <= 31 and month_input == 'Май' or 1 <= day_input <= 20 and month_input == 'Июнь':  \n",
    "    print('Близнецы')\n",
    "elif 21 <= day_input <= 30 and month_input == 'Июнь' or 1 <= day_input <= 22 and month_input == 'Июль':  \n",
    "    print('Рак')\n",
    "elif 23 <= day_input <= 31 and month_input == 'Июль' or 1 <= day_input <= 22 and month_input == 'Август':\n",
    "    print('Лев')\n",
    "elif 23 <= day_input <= 31 and month_input == 'Август' or 1 <= day_input <= 22 and month_input == 'Сентябрь':    \n",
    "    print('Дева')\n",
    "elif 23 <= day_input <= 30 and month_input == 'Сентябрь' or 1 <= day_input <= 22 and month_input == 'Октябрь':    \n",
    "    print('Весы')\n",
    "elif 23 <= day_input <= 31 and month_input == 'Октябрь' or 1 <= day_input <= 22 and month_input == 'Ноябрь':\n",
    "    print('Скорпион')\n",
    "elif 23 <= day_input <= 30 and month_input == 'Ноябрь' or 1 <= day_input <= 21 and month_input == 'Декабрь': \n",
    "    print('Стрелец')\n",
    "elif 22 <= day_input <= 31 and month_input == 'Декабрь' or 1 <= day_input <= 19 and month_input == 'Январь':\n",
    "    print('Козерог')\n",
    "elif 20 <= day_input <= 31 and month_input == 'Январь' or 1 <= day_input <= 19 and month_input == 'Февраль':  \n",
    "    print('Водолей')\n",
    "else:  \n",
    "    print('Рыбы')\n",
    "    "
   ]
  },
  {
   "cell_type": "markdown",
   "metadata": {},
   "source": [
    "Задание 4. Написать программу для подбора упаковок по размерам товара. Размеры хранятся в переменных (в сантиметрах):"
   ]
  },
  {
   "cell_type": "code",
   "execution_count": 6,
   "metadata": {},
   "outputs": [
    {
     "name": "stdout",
     "output_type": "stream",
     "text": [
      "Упаковка для лыж\n"
     ]
    }
   ],
   "source": [
    "width = 45\n",
    "length = 205\n",
    "height = 50\n",
    "\n",
    "if width < 15 and length < 15 and height < 15:\n",
    "    print('Коробка №1')\n",
    "elif length >= 200:\n",
    "    print('Упаковка для лыж')    \n",
    "elif 15 <= width <= 50 or 15 <= length <= 50 or 15 <= height <= 50:     \n",
    "    print('Коробка №2')\n",
    "else:\n",
    "    print('Стандартная коробка №3')\n",
    "    "
   ]
  },
  {
   "cell_type": "markdown",
   "metadata": {},
   "source": [
    "Задание 5 (необязательное)\n",
    "Дана переменная, в которой хранится шестизначное число (номер проездного билета). Напишите программу, которая будет определять, является ли данный билет “счастливым”. Билет считается счастливым, если сумма первых трех цифр совпадает с суммой последних трех цифр номера."
   ]
  },
  {
   "cell_type": "code",
   "execution_count": 7,
   "metadata": {},
   "outputs": [
    {
     "name": "stdout",
     "output_type": "stream",
     "text": [
      "Счастливый билет\n"
     ]
    }
   ],
   "source": [
    "number = 123321\n",
    "\n",
    "number_1 = number // 100000\n",
    "number_2 = number % 100000 // 10000\n",
    "number_3 = number % 10000 // 1000\n",
    "number_4 = number % 1000 // 100\n",
    "number_5 = number % 100 // 10\n",
    "number_6 = number % 10 // 1\n",
    "\n",
    "if number_1 + number_2 + number_3 == number_4 + number_5 + number_6:\n",
    "    print('Счастливый билет')\n",
    "else: \n",
    "    print('Несчастливый билет')\n"
   ]
  }
 ],
 "metadata": {
  "kernelspec": {
   "display_name": "Python 3",
   "language": "python",
   "name": "python3"
  },
  "language_info": {
   "codemirror_mode": {
    "name": "ipython",
    "version": 3
   },
   "file_extension": ".py",
   "mimetype": "text/x-python",
   "name": "python",
   "nbconvert_exporter": "python",
   "pygments_lexer": "ipython3",
   "version": "3.8.3"
  }
 },
 "nbformat": 4,
 "nbformat_minor": 4
}
