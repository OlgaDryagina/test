{
 "cells": [
  {
   "cell_type": "markdown",
   "metadata": {},
   "source": [
    "Задание 1. Даны 2 переменных, в которых хранятся строки произвольной длины: phrase_1 и phrase_2.\n",
    "Напишите код, который проверяет какая из этих строк длиннее."
   ]
  },
  {
   "cell_type": "code",
   "execution_count": 2,
   "metadata": {},
   "outputs": [
    {
     "name": "stdout",
     "output_type": "stream",
     "text": [
      "Фраза 1 длиннее фразы 2\n"
     ]
    }
   ],
   "source": [
    "phrase_1 = 'Насколько проще было бы писать программы, если бы не заказчики'\n",
    "phrase_2 = '640Кб должно хватить для любых задач. Билл Гейтс (по легенде)'\n",
    "if len(phrase_1) > len(phrase_2):      #функция len подсчитывает количество символов в строке\n",
    "    print('Фраза 1 длиннее фразы 2')\n",
    "elif len(phrase_1) < len(phrase_2):\n",
    "    print('Фраза 2 длиннее фразы 1') \n",
    "else:\n",
    "    print('Фразы равной длины')    "
   ]
  },
  {
   "cell_type": "markdown",
   "metadata": {},
   "source": [
    "Задание 2. Дана переменная, в которой хранится четырехзначное число (год). Необходимо написать программу, которая выведет, является ли данный год високосным или обычным."
   ]
  },
  {
   "cell_type": "code",
   "execution_count": null,
   "metadata": {},
   "outputs": [],
   "source": [
    "year = 2100\n",
    "year_input = int(input('Введите год'))\n",
    "if year % 100 == 0 and year % 400 == 0 or year % 100 != 0 and year % 4 == 0: #високосный год делится без остатка на 4\n",
    "    print('Високосный год')                                                  #если столетие,то делится без остатка на 400\n",
    "else:\n",
    "    print('Обычный год')"
   ]
  },
  {
   "cell_type": "markdown",
   "metadata": {},
   "source": [
    "Задание 3. Необходимо написать программу, которая будет запрашивать у пользователя месяц и дату рождения и выводить соответствующий знак зодиака."
   ]
  },
  {
   "cell_type": "code",
   "execution_count": null,
   "metadata": {},
   "outputs": [],
   "source": [
    "day = 20\n",
    "month = 'Февраль'\n",
    "day_input = input('Введите день')\n",
    "month_input = str(input('Введите месяц'))\n",
    "if 21 <= day <= 31 and month == 'Март' or 1 <= day <= 20 and month == 'Апрель': \n",
    "    print('Овен')\n",
    "elif 21 <= day <= 30 and month == 'Апрель' or 1 <= day <= 20 and month == 'Май':\n",
    "    print('Телец')\n",
    "elif 21 <= day <= 31 and month == 'Май' or 1 <= day <= 20 and month == 'Июнь':  \n",
    "    print('Близнецы')\n",
    "elif 21 <= day <= 30 and month == 'Июнь' or 1 <= day <= 22 and month == 'Июль':  \n",
    "    print('Рак')\n",
    "elif 23 <= day <= 31 and month == 'Июль' or 1 <= day <= 22 and month == 'Август':\n",
    "    print('Лев')\n",
    "elif 23 <= day <= 31 and month == 'Август' or 1 <= day <= 22 and month == 'Сентябрь':    \n",
    "    print('Дева')\n",
    "elif 23 <= day <= 30 and month == 'Сентябрь' or 1 <= day <= 22 and month == 'Октябрь':    \n",
    "    print('Весы')\n",
    "elif 23 <= day <= 31 and month == 'Октябрь' or 1 <= day <= 22 and month == 'Ноябрь':\n",
    "    print('Скорпион')\n",
    "elif 23 <= day <= 30 and month == 'Ноябрь' or 1 <= day <= 21 and month == 'Декабрь': \n",
    "    print('Стрелец')\n",
    "elif 22 <= day <= 31 and month == 'Декабрь' or 1 <= day <= 19 and month == 'Январь':\n",
    "    print('Козерог')\n",
    "elif 20 <= day <= 31 and month == 'Январь' or 1 <= day <= 19 and month == 'Февраль':  \n",
    "    print('Водолей')\n",
    "else:  \n",
    "    print('Рыбы')\n",
    "    "
   ]
  },
  {
   "cell_type": "markdown",
   "metadata": {},
   "source": [
    "Задание 4. Написать программу для подбора упаковок по размерам товара. Размеры хранятся в переменных (в сантиметрах):"
   ]
  },
  {
   "cell_type": "code",
   "execution_count": 1,
   "metadata": {},
   "outputs": [
    {
     "name": "stdout",
     "output_type": "stream",
     "text": [
      "Упаковка для лыж\n"
     ]
    }
   ],
   "source": [
    "width = 10\n",
    "length = 205\n",
    "height = 5\n",
    "if width < 15 and length < 15 and height < 15:\n",
    "    print('Коробка №1')\n",
    "elif 15 <= width <= 50 or 15 <= length <= 50 or 15 <= height <= 50:     \n",
    "    print('Коробка №2')\n",
    "elif length >= 200:\n",
    "    print('Упаковка для лыж')\n",
    "else:\n",
    "    print('Стандартная коробка №3')\n",
    "    "
   ]
  },
  {
   "cell_type": "code",
   "execution_count": null,
   "metadata": {},
   "outputs": [],
   "source": []
  }
 ],
 "metadata": {
  "kernelspec": {
   "display_name": "Python 3",
   "language": "python",
   "name": "python3"
  },
  "language_info": {
   "codemirror_mode": {
    "name": "ipython",
    "version": 3
   },
   "file_extension": ".py",
   "mimetype": "text/x-python",
   "name": "python",
   "nbconvert_exporter": "python",
   "pygments_lexer": "ipython3",
   "version": "3.8.3"
  }
 },
 "nbformat": 4,
 "nbformat_minor": 4
}
